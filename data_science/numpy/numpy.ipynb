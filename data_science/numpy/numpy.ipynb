{
 "cells": [
  {
   "cell_type": "markdown",
   "metadata": {},
   "source": [
    "# Numpy\n",
    "\n",
    "NumPy, short for Numerical Python, is a fundamental library for scientific computing in Python. It provides a powerful N-dimensional array object, which serves as the core data structure for efficient numerical computations. NumPy is widely used in data science, machine learning, and scientific research due to its ease of use and performance capabilities."
   ]
  },
  {
   "cell_type": "markdown",
   "metadata": {},
   "source": [
    "## Key Features\n",
    "\n",
    "1. N Dimensional Array\n",
    "2. Vectorization\n",
    "3. Broadcasting"
   ]
  },
  {
   "cell_type": "markdown",
   "metadata": {},
   "source": [
    "### N Dimensional Array\n",
    "\n",
    "The ndarray (n-dimensional array) is the fundamental data structure of NumPy. \n",
    "\n",
    "It is a multi-dimensional array that can hold any data type. It is created using the `np.array()` function."
   ]
  },
  {
   "cell_type": "markdown",
   "metadata": {},
   "source": [
    "#### What is an Array?\n",
    "\n",
    "An array is a data structure that stores a fixed-size sequence of elements of the same type.\n",
    "\n",
    "It provides a way to organize and access multiple values under a single variable name. Each element in an array is identified by its `position` or `index`."
   ]
  },
  {
   "cell_type": "markdown",
   "metadata": {},
   "source": [
    "#### Types of Arrays\n",
    "\n",
    "- 0d Array, aka Scalar\n",
    "- 1d Array, aka Vector\n",
    "- 2d Array, aka Matrix\n",
    "- 3d / Multi Dimensional Array, aka Tensor"
   ]
  },
  {
   "cell_type": "code",
   "execution_count": 33,
   "metadata": {},
   "outputs": [
    {
     "data": {
      "text/plain": [
       "array(90)"
      ]
     },
     "execution_count": 33,
     "metadata": {},
     "output_type": "execute_result"
    }
   ],
   "source": [
    "# 0d array\n",
    "import numpy as np\n",
    "zero_d_arr = np.array(np.random.randint(100))\n",
    "# print(arr)\n",
    "# print(arr.ndim)\n",
    "# print(arr.shape)\n",
    "# print(arr.size)\n",
    "# print(arr.dtype)\n",
    "\n",
    "zero_d_arr"
   ]
  },
  {
   "cell_type": "code",
   "execution_count": 3,
   "metadata": {},
   "outputs": [
    {
     "data": {
      "text/plain": [
       "array([1, 2, 3, 4, 5])"
      ]
     },
     "execution_count": 3,
     "metadata": {},
     "output_type": "execute_result"
    }
   ],
   "source": [
    "# 1d array\n",
    "\n",
    "one_d_arr = np.array([1, 2, 3, 4, 5])\n",
    "\n",
    "one_d_arr"
   ]
  },
  {
   "cell_type": "code",
   "execution_count": 27,
   "metadata": {},
   "outputs": [
    {
     "data": {
      "text/plain": [
       "array([[93,  5, 53],\n",
       "       [88, 92, 75]])"
      ]
     },
     "execution_count": 27,
     "metadata": {},
     "output_type": "execute_result"
    }
   ],
   "source": [
    "# 2d array\n",
    "\n",
    "two_d_arr = np.array(np.random.randint(100, size=(2, 3)))\n",
    "\n",
    "two_d_arr"
   ]
  },
  {
   "cell_type": "code",
   "execution_count": 5,
   "metadata": {},
   "outputs": [
    {
     "data": {
      "text/plain": [
       "array([[[ 1,  2,  3],\n",
       "        [ 4,  5,  6]],\n",
       "\n",
       "       [[ 7,  8,  9],\n",
       "        [10, 11, 12]]])"
      ]
     },
     "execution_count": 5,
     "metadata": {},
     "output_type": "execute_result"
    }
   ],
   "source": [
    "# 3d array\n",
    "\n",
    "three_d_arr = np.array([[[1, 2, 3], [4, 5, 6]], [[7, 8, 9], [10, 11, 12]]])\n",
    "\n",
    "three_d_arr"
   ]
  },
  {
   "cell_type": "markdown",
   "metadata": {},
   "source": [
    "## Vectorization\n",
    "\n",
    "Numpy allows us to perform mathematical and logical operations on entire arrays, known as vectorized operations.\n",
    "\n",
    "[![alt text](images/vectorization.png)](https://youtu.be/auZhd2pPtv0?t=160)"
   ]
  },
  {
   "cell_type": "code",
   "execution_count": 28,
   "metadata": {},
   "outputs": [
    {
     "data": {
      "text/plain": [
       "array([ 6,  7,  8,  9, 10])"
      ]
     },
     "execution_count": 28,
     "metadata": {},
     "output_type": "execute_result"
    }
   ],
   "source": [
    "one_d_arr + 5"
   ]
  },
  {
   "cell_type": "markdown",
   "metadata": {},
   "source": [
    "## Broadcasting\n",
    "\n",
    "Numpy provides broadcasting, a powerful mechanism that enables operations between arrays of different shapes."
   ]
  }
 ],
 "metadata": {
  "kernelspec": {
   "display_name": "python_env",
   "language": "python",
   "name": "python3"
  },
  "language_info": {
   "codemirror_mode": {
    "name": "ipython",
    "version": 3
   },
   "file_extension": ".py",
   "mimetype": "text/x-python",
   "name": "python",
   "nbconvert_exporter": "python",
   "pygments_lexer": "ipython3",
   "version": "3.12.4"
  }
 },
 "nbformat": 4,
 "nbformat_minor": 2
}
