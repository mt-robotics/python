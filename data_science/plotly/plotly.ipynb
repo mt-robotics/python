{
 "cells": [
  {
   "cell_type": "markdown",
   "metadata": {},
   "source": [
    "# About\n",
    "\n",
    "Plotly is a modern plotting library that enables interactive, web-based visualizations. It can produce plots that are not only visually appealing but also interactive, making them ideal for dashboards and data analysis applications. It can be more complex to set up compared to other plotting libraries.\n",
    "\n",
    "- Strengths:\n",
    "  - Creates interactive plots that can be embedded in web applications.\n",
    "  - Offers a wide range of chart types, including 3D plots.\n",
    "  - Can be easily used with Dash to create web applications.\n",
    "\n",
    "- Weaknesses:\n",
    "  - Can be more complex to setup for basic plots.\n",
    "  - May have a steeper learning curve for new users."
   ]
  },
  {
   "cell_type": "markdown",
   "metadata": {},
   "source": [
    "# Types of Plotly charts\n",
    "\n",
    "Charts can be created in Plotly using two main methods: `plotly.express` and `plotly.graph_objs`. Each method has its own set of features and uses, catering to different levels of customization and complexity."
   ]
  },
  {
   "cell_type": "markdown",
   "metadata": {},
   "source": [
    "## Plotly Express (plotly.express)\n",
    "\n",
    "Plotly Express is a high-level interface for creating simple and concise visualizations. It is designed to be user-friendly and to generate plots quickly with minimal code.\n",
    "\n",
    "Key Features:\n",
    "\n",
    "- Ease of Use: Requires less code and is easier for quick visualizations.\n",
    "- Automatic Handling: Automatically handles many aspects of the plot, such as color scales, legends, and titles.\n",
    "- Built-in Data Handling: Can directly use DataFrames and column names for data representation.\n",
    "- Less Customization: Limited in terms of deep customization compared to plotly.graph_objs."
   ]
  },
  {
   "cell_type": "code",
   "execution_count": 1,
   "metadata": {},
   "outputs": [
    {
     "ename": "ValueError",
     "evalue": "Mime type rendering requires nbformat>=4.2.0 but it is not installed",
     "output_type": "error",
     "traceback": [
      "\u001b[0;31m---------------------------------------------------------------------------\u001b[0m",
      "\u001b[0;31mValueError\u001b[0m                                Traceback (most recent call last)",
      "Cell \u001b[0;32mIn[1], line 5\u001b[0m\n\u001b[1;32m      3\u001b[0m df \u001b[38;5;241m=\u001b[39m px\u001b[38;5;241m.\u001b[39mdata\u001b[38;5;241m.\u001b[39mtips()\n\u001b[1;32m      4\u001b[0m fig \u001b[38;5;241m=\u001b[39m px\u001b[38;5;241m.\u001b[39mpie(df, values\u001b[38;5;241m=\u001b[39m\u001b[38;5;124m'\u001b[39m\u001b[38;5;124mtotal_bill\u001b[39m\u001b[38;5;124m'\u001b[39m, names\u001b[38;5;241m=\u001b[39m\u001b[38;5;124m'\u001b[39m\u001b[38;5;124mday\u001b[39m\u001b[38;5;124m'\u001b[39m, title\u001b[38;5;241m=\u001b[39m\u001b[38;5;124m'\u001b[39m\u001b[38;5;124mTotal Bill per Day\u001b[39m\u001b[38;5;124m'\u001b[39m)\n\u001b[0;32m----> 5\u001b[0m \u001b[43mfig\u001b[49m\u001b[38;5;241;43m.\u001b[39;49m\u001b[43mshow\u001b[49m\u001b[43m(\u001b[49m\u001b[43m)\u001b[49m\n",
      "File \u001b[0;32m~/Improvement/python/python_env/lib/python3.12/site-packages/plotly/basedatatypes.py:3410\u001b[0m, in \u001b[0;36mBaseFigure.show\u001b[0;34m(self, *args, **kwargs)\u001b[0m\n\u001b[1;32m   3377\u001b[0m \u001b[38;5;250m\u001b[39m\u001b[38;5;124;03m\"\"\"\u001b[39;00m\n\u001b[1;32m   3378\u001b[0m \u001b[38;5;124;03mShow a figure using either the default renderer(s) or the renderer(s)\u001b[39;00m\n\u001b[1;32m   3379\u001b[0m \u001b[38;5;124;03mspecified by the renderer argument\u001b[39;00m\n\u001b[0;32m   (...)\u001b[0m\n\u001b[1;32m   3406\u001b[0m \u001b[38;5;124;03mNone\u001b[39;00m\n\u001b[1;32m   3407\u001b[0m \u001b[38;5;124;03m\"\"\"\u001b[39;00m\n\u001b[1;32m   3408\u001b[0m \u001b[38;5;28;01mimport\u001b[39;00m \u001b[38;5;21;01mplotly\u001b[39;00m\u001b[38;5;21;01m.\u001b[39;00m\u001b[38;5;21;01mio\u001b[39;00m \u001b[38;5;28;01mas\u001b[39;00m \u001b[38;5;21;01mpio\u001b[39;00m\n\u001b[0;32m-> 3410\u001b[0m \u001b[38;5;28;01mreturn\u001b[39;00m \u001b[43mpio\u001b[49m\u001b[38;5;241;43m.\u001b[39;49m\u001b[43mshow\u001b[49m\u001b[43m(\u001b[49m\u001b[38;5;28;43mself\u001b[39;49m\u001b[43m,\u001b[49m\u001b[43m \u001b[49m\u001b[38;5;241;43m*\u001b[39;49m\u001b[43margs\u001b[49m\u001b[43m,\u001b[49m\u001b[43m \u001b[49m\u001b[38;5;241;43m*\u001b[39;49m\u001b[38;5;241;43m*\u001b[39;49m\u001b[43mkwargs\u001b[49m\u001b[43m)\u001b[49m\n",
      "File \u001b[0;32m~/Improvement/python/python_env/lib/python3.12/site-packages/plotly/io/_renderers.py:394\u001b[0m, in \u001b[0;36mshow\u001b[0;34m(fig, renderer, validate, **kwargs)\u001b[0m\n\u001b[1;32m    389\u001b[0m         \u001b[38;5;28;01mraise\u001b[39;00m \u001b[38;5;167;01mValueError\u001b[39;00m(\n\u001b[1;32m    390\u001b[0m             \u001b[38;5;124m\"\u001b[39m\u001b[38;5;124mMime type rendering requires ipython but it is not installed\u001b[39m\u001b[38;5;124m\"\u001b[39m\n\u001b[1;32m    391\u001b[0m         )\n\u001b[1;32m    393\u001b[0m     \u001b[38;5;28;01mif\u001b[39;00m \u001b[38;5;129;01mnot\u001b[39;00m nbformat \u001b[38;5;129;01mor\u001b[39;00m Version(nbformat\u001b[38;5;241m.\u001b[39m__version__) \u001b[38;5;241m<\u001b[39m Version(\u001b[38;5;124m\"\u001b[39m\u001b[38;5;124m4.2.0\u001b[39m\u001b[38;5;124m\"\u001b[39m):\n\u001b[0;32m--> 394\u001b[0m         \u001b[38;5;28;01mraise\u001b[39;00m \u001b[38;5;167;01mValueError\u001b[39;00m(\n\u001b[1;32m    395\u001b[0m             \u001b[38;5;124m\"\u001b[39m\u001b[38;5;124mMime type rendering requires nbformat>=4.2.0 but it is not installed\u001b[39m\u001b[38;5;124m\"\u001b[39m\n\u001b[1;32m    396\u001b[0m         )\n\u001b[1;32m    398\u001b[0m     ipython_display\u001b[38;5;241m.\u001b[39mdisplay(bundle, raw\u001b[38;5;241m=\u001b[39m\u001b[38;5;28;01mTrue\u001b[39;00m)\n\u001b[1;32m    400\u001b[0m \u001b[38;5;66;03m# external renderers\u001b[39;00m\n",
      "\u001b[0;31mValueError\u001b[0m: Mime type rendering requires nbformat>=4.2.0 but it is not installed"
     ]
    }
   ],
   "source": [
    "import plotly.express as px\n",
    "\n",
    "df = px.data.tips()\n",
    "fig = px.pie(df, values='total_bill', names='day', title='Total Bill per Day')\n",
    "fig.show()"
   ]
  },
  {
   "cell_type": "markdown",
   "metadata": {},
   "source": [
    "This will create a pie chart with total_bill values from the tips dataset, divided by the day column."
   ]
  },
  {
   "cell_type": "markdown",
   "metadata": {},
   "source": [
    "## Plotly Graph Objects (plotly.graph_objs or plotly.graph_objects)\n",
    "\n",
    "Plotly Graph Objects provides a low-level, object-oriented interface for Plotly charts. This method offers more detailed control over the chart’s appearance and behavior.\n",
    "\n",
    "Key Features:\n",
    "\n",
    "- Detailed Customization: Allows for fine-grained control over almost every aspect of the chart.\n",
    "- Complex Visualizations: Capable of creating more complex and customized visualizations.\n",
    "- Explicit Data Handling: Requires more explicit definitions of data and layout, which can be more verbose but allows for greater control.\n",
    "\n",
    "Example:"
   ]
  },
  {
   "cell_type": "code",
   "execution_count": null,
   "metadata": {},
   "outputs": [],
   "source": [
    "import plotly.graph_objs as go\n",
    "\n",
    "fig = go.Figure(go.Pie(\n",
    "    labels=[\"Apples\", \"Oranges\", \"Bananas\"],\n",
    "    values=[4500, 2500, 1050],\n",
    "    textinfo='label+percent',\n",
    "    insidetextorientation='radial'\n",
    "))\n",
    "fig.update_layout(title_text='Fruit Distribution')\n",
    "fig.show()"
   ]
  },
  {
   "cell_type": "markdown",
   "metadata": {},
   "source": [
    "## Plotly Chart Studio and Plotly Python API\n",
    "\n",
    "Besides plotly.express and plotly.graph_objs, Plotly also offers:\n",
    "\n",
    "- Chart Studio: An online platform provided by Plotly where users can create, edit, and share Plotly graphs. It allows for collaborative editing and provides a GUI for creating charts without writing code.\n",
    "- Plotly Python API: You can also use Plotly’s REST API to create and manage charts on the Plotly cloud or on your own server. This is more advanced and typically involves using the Chart Studio for managing the plots."
   ]
  },
  {
   "cell_type": "markdown",
   "metadata": {},
   "source": [
    "## Summary\n",
    "\n",
    "- Plotly Express: Best for quick, simple plots with less code. Great for data exploration and basic visualization needs.\n",
    "- Plotly Graph Objects: Offers detailed customization and control over the plot’s appearance and behavior. Suitable for production-quality visualizations and complex charting requirements.\n",
    "- Chart Studio & Plotly API: Additional tools for creating and managing plots, especially useful for sharing and collaborative work.\n",
    "\n",
    "Professional data analysts usually use both Plotly Express and Plotly Graph Objects. "
   ]
  },
  {
   "cell_type": "markdown",
   "metadata": {},
   "source": [
    "# Plotly plots a pie chart"
   ]
  },
  {
   "cell_type": "code",
   "execution_count": null,
   "metadata": {},
   "outputs": [],
   "source": [
    "import plotly.express as px\n",
    "\n",
    "fig = px.pie(\n",
    "  values=biology.values,\n",
    "  title='Percentage of Male Vs Female Winners',\n",
    "  names=biology.index,\n",
    "  hole=0.4\n",
    ")\n",
    "\n",
    "fig.update_traces(textposition='inside', textfont_size=12, textinfo='percent+value')\n",
    "\n",
    "fig.show()"
   ]
  },
  {
   "cell_type": "markdown",
   "metadata": {},
   "source": [
    "**Explanation**\n",
    "\n",
    "When we print out `biology = df_data.sex.value_counts()`, this is the output:\n",
    "```plaintext\n",
    "sex\n",
    "Male      876\n",
    "Female     58\n",
    "Name: count, dtype: int64\n",
    "```\n",
    "\n",
    "The `values` param requires a `list` of values (either a `Pandas Series` or a `Numpy Array`). Hence we set: `values=biology.values`.\n",
    "\n",
    "`title` set the displayed title of the plot.\n",
    "\n",
    "`name` set the displayed name of the plot (in other words, the `legend`).\n",
    "\n",
    "`hole` set the size of the hole in the center of the plot."
   ]
  },
  {
   "cell_type": "markdown",
   "metadata": {},
   "source": [
    "## Map data values"
   ]
  },
  {
   "cell_type": "code",
   "execution_count": null,
   "metadata": {},
   "outputs": [],
   "source": [
    "data = {\n",
    "    'state': ['CA', 'NY', 'TX', 'CA', 'TX', 'NY', 'TX', 'CA'],\n",
    "    'count': [1, 2, 3, 2, 1, 1, 2, 1]\n",
    "}\n",
    "\n",
    "df = pd.DataFrame(data)\n",
    "\n",
    "state_counts = df.groupby('state')['count'].sum()\n",
    "print(state_counts)"
   ]
  },
  {
   "cell_type": "markdown",
   "metadata": {},
   "source": [
    "Output:\n",
    "\n",
    "```plaintext\n",
    "state\n",
    "CA    4\n",
    "NY    3\n",
    "TX    6\n",
    "Name: count, dtype: int64\n",
    "```\n",
    "\n",
    "Plot the data as a pie chart using Plotly:"
   ]
  },
  {
   "cell_type": "code",
   "execution_count": null,
   "metadata": {},
   "outputs": [],
   "source": [
    "import plotly.express as px\n",
    "\n",
    "fig = px.pie(\n",
    "  values = state_counts.values,\n",
    "  names = state_counts.index\n",
    ")\n",
    "\n",
    "fig.show()"
   ]
  },
  {
   "cell_type": "markdown",
   "metadata": {},
   "source": [
    "When we hover over the created pie chart, the labels are displayed as 'CA', 'NY', 'TX'. \n",
    "\n",
    "How do we make it show the full state names: 'California', 'New York', 'Texas' instead?\n",
    "\n",
    "To do that, we use the `mapping method`.\n",
    "\n",
    "First we create an dictionary mapping the abbreviations to full state names:"
   ]
  },
  {
   "cell_type": "code",
   "execution_count": null,
   "metadata": {},
   "outputs": [],
   "source": [
    "state_names = {\n",
    "  'CA': 'California',\n",
    "  'NY': 'New York',\n",
    "  'TX': 'Texas'\n",
    "}"
   ]
  },
  {
   "cell_type": "markdown",
   "metadata": {},
   "source": [
    "Then we create a new column for the `df` dataframe by mapping the `state` column to the `state_names` dictionary:"
   ]
  },
  {
   "cell_type": "code",
   "execution_count": null,
   "metadata": {},
   "outputs": [],
   "source": [
    "df['full_state'] = df.state.map(state_names)  # this creates a new column called 'full_state' in the dataframe\n",
    "print(df)"
   ]
  },
  {
   "cell_type": "markdown",
   "metadata": {},
   "source": [
    "Output:\n",
    "\n",
    "```plaintext\n",
    "  state  count  full_state\n",
    "0    CA      1  California\n",
    "1    NY      2    New York\n",
    "2    TX      3       Texas\n",
    "3    CA      2  California\n",
    "4    TX      1       Texas\n",
    "5    NY      1    New York\n",
    "6    TX      2       Texas\n",
    "7    CA      1  California\n",
    "```\n",
    "\n",
    "Now we can use the `full_state` column to create the same pie chart as before:"
   ]
  },
  {
   "cell_type": "code",
   "execution_count": null,
   "metadata": {},
   "outputs": [],
   "source": [
    "full_state_counts = df.groupby('full_state')['count'].sum()\n",
    "\n",
    "fig = px.pie(\n",
    "  values = full_state_counts.values,\n",
    "  names = full_state_counts.index,\n",
    "  title = 'State Distribution',\n",
    "  hole = 0.4\n",
    ")\n",
    "\n",
    "fig.show()"
   ]
  },
  {
   "cell_type": "markdown",
   "metadata": {},
   "source": [
    "When hovering over the pie chart, the labels now are displayed as 'California', 'New York', 'Texas', so does the chart's legend."
   ]
  },
  {
   "cell_type": "markdown",
   "metadata": {},
   "source": [
    "## `update_traces`\n",
    "\n",
    "This is the default plot (without update_traces):\n",
    "![alt text](images/plot_without_update_traces.png)"
   ]
  },
  {
   "cell_type": "markdown",
   "metadata": {},
   "source": [
    "### Parameters in `update_traces`:"
   ]
  },
  {
   "cell_type": "markdown",
   "metadata": {},
   "source": [
    "#### `textposition`\n",
    "The position of the data labels relative to the data points. See the [documentation](https://plotly.com/python/text-and-annotations/#textposition) for more details.\n",
    "\n",
    "Values of the `textposition` parameter:\n",
    "- inside\n",
    "- outside\n",
    "- auto\n",
    "- none"
   ]
  },
  {
   "cell_type": "markdown",
   "metadata": {},
   "source": [
    "#### `textfont`\n",
    "It is used to customize the appearance of text elements within a plot, such as labels, annotations, or data point labels. We can define the font family, size, color, and more, ensuring that text is displayed clearly and in a style that matches our visualization’s aesthetic.\n",
    "\n",
    "**Attributes**:\n",
    "- family\n",
    "- Description: Specifies the font family to be used for the text. It supports standard font names as well as generic family names (e.g., ‘sans-serif’, ‘serif’).\n",
    "- Usage: Can include a single font name or a list of fallback fonts separated by commas.\n",
    "- Example: 'Arial', 'Courier New, monospace', 'Times New Roman, Times, serif'\n",
    "\n",
    "- size\n",
    "- Description: Sets the font size of the text in points.\n",
    "- Usage: Specify a numeric value indicating the size.\n",
    "- Example: 12, 14\n",
    "\n",
    "- color\n",
    "- Description: Defines the color of the text. It can be set using color names, hexadecimal color codes, or RGB(A) values.\n",
    "- Usage: Supports various color formats.\n",
    "- Example: 'black', '#ff5733', 'rgb(255, 87, 51)', 'rgba(255, 87, 51, 0.6)'\n",
    "\n",
    "- colorscale (applicable in certain contexts like heatmaps or other special cases)\n",
    "- Description: Specifies a colorscale for the text, allowing dynamic color adjustments based on data values.\n",
    "- Usage: Typically used in conjunction with specific data visualizations that support colorscales.\n",
    "- Example: 'Viridis', [[0, 'blue'], [1, 'red']]\n",
    "\n",
    "- coloraxis (advanced usage)\n",
    "- Description: Associates the text color with a color axis, useful when multiple data traces need to share the same color scale.\n",
    "- Usage: Requires setting up a color axis in the layout.\n",
    "- Example: 'coloraxis', 'coloraxis2'"
   ]
  },
  {
   "cell_type": "code",
   "execution_count": null,
   "metadata": {},
   "outputs": [],
   "source": [
    "# Customizing text font\n",
    "fig.update_traces(textfont=dict(\n",
    "    family='Calibri, sans-serif',\n",
    "    size=14,\n",
    "    color='white'\n",
    "))"
   ]
  },
  {
   "cell_type": "markdown",
   "metadata": {},
   "source": [
    "#### `textinfo`\n",
    "Determines which trace information appear on the graph.\n",
    "\n",
    "The 'textinfo' property is a flaglist and may be specified as a string containing:\n",
    "- Any combination of ['label', 'text', 'value', 'percent'] joined with '+' characters (e.g. 'label+text')\n",
    "- exactly one of ['none'] (e.g. 'none')."
   ]
  },
  {
   "cell_type": "code",
   "execution_count": null,
   "metadata": {},
   "outputs": [],
   "source": [
    "fig.update_traces(textinfo='percent+value')"
   ]
  }
 ],
 "metadata": {
  "kernelspec": {
   "display_name": "python_env",
   "language": "python",
   "name": "python3"
  },
  "language_info": {
   "codemirror_mode": {
    "name": "ipython",
    "version": 3
   },
   "file_extension": ".py",
   "mimetype": "text/x-python",
   "name": "python",
   "nbconvert_exporter": "python",
   "pygments_lexer": "ipython3",
   "version": "3.12.4"
  }
 },
 "nbformat": 4,
 "nbformat_minor": 2
}
