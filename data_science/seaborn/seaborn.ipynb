{
 "cells": [
  {
   "cell_type": "markdown",
   "metadata": {},
   "source": [
    "# About\n",
    "\n",
    "Seaborn is built on top of Matplotlib and is designed for statistical data visualization. It makes it easier to create more attractive and informative statistical graphics with fewer lines of code.\n",
    "\n",
    "- Strengths:\n",
    "  - Simplifies the creation of complex plots.\n",
    "  - Provides beautiful default styles and color palettes.\n",
    "  - <span style=\"color: orange;\">Integrated with Pandas, making it easy to work with DataFrames</span>.\n",
    "\n",
    "- Weaknesses:\n",
    "  - Less flexible than Matplotlib for highly customized plots.\n",
    "  - Limited to statistical plots (but it covers a wide range of them)."
   ]
  }
 ],
 "metadata": {
  "language_info": {
   "name": "python"
  }
 },
 "nbformat": 4,
 "nbformat_minor": 2
}
