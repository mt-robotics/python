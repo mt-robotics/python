{
 "cells": [
  {
   "cell_type": "markdown",
   "metadata": {},
   "source": [
    "# Python "
   ]
  },
  {
   "cell_type": "markdown",
   "metadata": {},
   "source": [
    "## Number, Strings and Booleans"
   ]
  },
  {
   "cell_type": "markdown",
   "metadata": {},
   "source": [
    "### Math Operators"
   ]
  },
  {
   "cell_type": "code",
   "execution_count": 3,
   "metadata": {},
   "outputs": [
    {
     "data": {
      "text/plain": [
       "256"
      ]
     },
     "execution_count": 3,
     "metadata": {},
     "output_type": "execute_result"
    }
   ],
   "source": [
    "# exponent\n",
    "4 ** 4"
   ]
  },
  {
   "cell_type": "markdown",
   "metadata": {},
   "source": [
    "## Converting Data Types"
   ]
  },
  {
   "cell_type": "code",
   "execution_count": 5,
   "metadata": {},
   "outputs": [
    {
     "data": {
      "text/plain": [
       "'False'"
      ]
     },
     "execution_count": 5,
     "metadata": {},
     "output_type": "execute_result"
    }
   ],
   "source": [
    "# String conversion\n",
    "str(1)\n",
    "str(3>5)"
   ]
  },
  {
   "cell_type": "markdown",
   "metadata": {},
   "source": [
    "### Convert a fractional number to float"
   ]
  },
  {
   "cell_type": "code",
   "execution_count": 2,
   "metadata": {},
   "outputs": [
    {
     "name": "stdout",
     "output_type": "stream",
     "text": [
      "3602879701896397/36028797018963968\n"
     ]
    }
   ],
   "source": [
    "from fractions import Fraction\n",
    "\n",
    "float_num = 0.1\n",
    "fraction_num = Fraction(float_num)\n",
    "print(fraction_num)"
   ]
  },
  {
   "cell_type": "markdown",
   "metadata": {},
   "source": [
    "**Why is it not 1/10 as we expect?**\n",
    "\n",
    "Floating-point numbers are represented approximately in computers due to their binary nature. This can lead to small inaccuracies when converting floating-point numbers to fractions directly.\n",
    "\n",
    "3602879701896397/36028797018963968 is definitely not wrong, yet it's very impractical. To get a more practical result, use the `.limit_denominator(<max_denominator>)` method of the `Fraction` class:"
   ]
  },
  {
   "cell_type": "code",
   "execution_count": 4,
   "metadata": {},
   "outputs": [
    {
     "name": "stdout",
     "output_type": "stream",
     "text": [
      "1/10\n"
     ]
    }
   ],
   "source": [
    "fraction_num = Fraction(float_num).limit_denominator()\n",
    "# default max_denominator is 1,000,000. The larger the max_denominator, the more accurate the result will be.\n",
    "# max_denominator = 10 : Simplifies the fraction to a very basic level, useful for rough approximations\n",
    "# max_denominator = 100 : Easier to work with and sufficient for many everyday calculations.\n",
    "# max_denominator = 1000 : Provides a reasonable level of accuracy while keeping the fraction manageable and not overly complex.\n",
    "# max_denominator = 10000 : Offers better precision while keeping the denominator within a practical range.\n",
    "\n",
    "print(fraction_num)  # now the output is 1/10"
   ]
  },
  {
   "cell_type": "markdown",
   "metadata": {},
   "source": [
    "## String Methods and String Slicers\n",
    "\n",
    "Strings are `Objects`. In Python, `Objects` can have methods.\n",
    "\n",
    "Think of a `String` like a `Car`. With a `car`, we can drive. Similarly, with a `String`, we can have many ways to deal with it."
   ]
  },
  {
   "cell_type": "code",
   "execution_count": 7,
   "metadata": {},
   "outputs": [
    {
     "name": "stdout",
     "output_type": "stream",
     "text": [
      "MYSTRING\n",
      "mystring\n",
      "Mystring\n",
      "Mystring\n",
      "myptring\n"
     ]
    }
   ],
   "source": [
    "# examples of using `methods`:\n",
    "\n",
    "print(\"mystring\".upper())  # convert to uppercase\n",
    "print(\"mystring\".lower())  # convert to lowercase\n",
    "print(\"mystring\".title())  # convert the first character of each word to uppercase\n",
    "print(\"mystring\".capitalize())  # convert the first character to uppercase\n",
    "print(\"mystring\".replace(\"s\", \"p\"))  # replace all occurrences of \"s\" with \"p\""
   ]
  },
  {
   "cell_type": "code",
   "execution_count": 8,
   "metadata": {},
   "outputs": [
    {
     "data": {
      "text/plain": [
       "['__add__',\n",
       " '__class__',\n",
       " '__contains__',\n",
       " '__delattr__',\n",
       " '__dir__',\n",
       " '__doc__',\n",
       " '__eq__',\n",
       " '__format__',\n",
       " '__ge__',\n",
       " '__getattribute__',\n",
       " '__getitem__',\n",
       " '__getnewargs__',\n",
       " '__getstate__',\n",
       " '__gt__',\n",
       " '__hash__',\n",
       " '__init__',\n",
       " '__init_subclass__',\n",
       " '__iter__',\n",
       " '__le__',\n",
       " '__len__',\n",
       " '__lt__',\n",
       " '__mod__',\n",
       " '__mul__',\n",
       " '__ne__',\n",
       " '__new__',\n",
       " '__reduce__',\n",
       " '__reduce_ex__',\n",
       " '__repr__',\n",
       " '__rmod__',\n",
       " '__rmul__',\n",
       " '__setattr__',\n",
       " '__sizeof__',\n",
       " '__str__',\n",
       " '__subclasshook__',\n",
       " 'capitalize',\n",
       " 'casefold',\n",
       " 'center',\n",
       " 'count',\n",
       " 'encode',\n",
       " 'endswith',\n",
       " 'expandtabs',\n",
       " 'find',\n",
       " 'format',\n",
       " 'format_map',\n",
       " 'index',\n",
       " 'isalnum',\n",
       " 'isalpha',\n",
       " 'isascii',\n",
       " 'isdecimal',\n",
       " 'isdigit',\n",
       " 'isidentifier',\n",
       " 'islower',\n",
       " 'isnumeric',\n",
       " 'isprintable',\n",
       " 'isspace',\n",
       " 'istitle',\n",
       " 'isupper',\n",
       " 'join',\n",
       " 'ljust',\n",
       " 'lower',\n",
       " 'lstrip',\n",
       " 'maketrans',\n",
       " 'partition',\n",
       " 'removeprefix',\n",
       " 'removesuffix',\n",
       " 'replace',\n",
       " 'rfind',\n",
       " 'rindex',\n",
       " 'rjust',\n",
       " 'rpartition',\n",
       " 'rsplit',\n",
       " 'rstrip',\n",
       " 'split',\n",
       " 'splitlines',\n",
       " 'startswith',\n",
       " 'strip',\n",
       " 'swapcase',\n",
       " 'title',\n",
       " 'translate',\n",
       " 'upper',\n",
       " 'zfill']"
      ]
     },
     "execution_count": 8,
     "metadata": {},
     "output_type": "execute_result"
    }
   ],
   "source": [
    "# List down all methods of a string, use the `dir` function\n",
    "dir(\"string\")"
   ]
  },
  {
   "cell_type": "code",
   "execution_count": 9,
   "metadata": {},
   "outputs": [
    {
     "name": "stdout",
     "output_type": "stream",
     "text": [
      "['this', 'is', 'a', 'sentence']\n"
     ]
    }
   ],
   "source": [
    "# more examples of string methods\n",
    "print(\"this is a sentence\".split(\" \"))  # split the string into a list of words using \" \" as the delimiter"
   ]
  },
  {
   "cell_type": "code",
   "execution_count": 16,
   "metadata": {},
   "outputs": [
    {
     "name": "stdout",
     "output_type": "stream",
     "text": [
      "0123\n",
      "34\n",
      "01234\n",
      "345\n",
      "02\n",
      "0369\n",
      "9876543210\n",
      "97531\n"
     ]
    }
   ],
   "source": [
    "# String Slicers\n",
    "print(\"012345\"[0:4])\n",
    "print(\"012345\"[3:5])\n",
    "print(\"012345\"[:5])\n",
    "print(\"012345\"[3:])\n",
    "print(\"012345\"[0:4:2]) # syntax: [start:stop:step]\n",
    "print(\"0123456789\"[0::3])\n",
    "print(\"0123456789\"[::-1])  # reverse the string\n",
    "print(\"0123456789\"[::-2])  # reverse the string, skipping every second character"
   ]
  },
  {
   "cell_type": "markdown",
   "metadata": {},
   "source": [
    "## Lists"
   ]
  },
  {
   "cell_type": "code",
   "execution_count": 25,
   "metadata": {},
   "outputs": [
    {
     "name": "stdout",
     "output_type": "stream",
     "text": [
      "1\n",
      "['1', [1, 2, 3], 3]\n",
      "None\n"
     ]
    }
   ],
   "source": [
    "# create a list\n",
    "\n",
    "myList = [1, 2, 3, 4]\n",
    "print(myList[0])\n",
    "\n",
    "myList = [\"1\", [1, 2, 3], 3]\n",
    "print(myList)"
   ]
  },
  {
   "cell_type": "code",
   "execution_count": 28,
   "metadata": {},
   "outputs": [
    {
     "name": "stdout",
     "output_type": "stream",
     "text": [
      "['1', [1, 2, 3], 3, 'hello']\n"
     ]
    }
   ],
   "source": [
    "# append to a list\n",
    "myList.append(\"hello\")\n",
    "print(myList)\n"
   ]
  },
  {
   "cell_type": "code",
   "execution_count": 29,
   "metadata": {},
   "outputs": [
    {
     "data": {
      "text/plain": [
       "'hello'"
      ]
     },
     "execution_count": 29,
     "metadata": {},
     "output_type": "execute_result"
    }
   ],
   "source": [
    "# pop a list (remove the last element)\n",
    "myList.pop()"
   ]
  },
  {
   "cell_type": "markdown",
   "metadata": {},
   "source": [
    "### Mutable Data Types\n",
    "Since we can change the list `myList` above (as the examples of `append` and `pop`), it is a mutable data type.\n",
    "\n",
    "The same rules for slicing strings also apply to lists."
   ]
  },
  {
   "cell_type": "code",
   "execution_count": 30,
   "metadata": {},
   "outputs": [
    {
     "data": {
      "text/plain": [
       "['__add__',\n",
       " '__class__',\n",
       " '__class_getitem__',\n",
       " '__contains__',\n",
       " '__delattr__',\n",
       " '__delitem__',\n",
       " '__dir__',\n",
       " '__doc__',\n",
       " '__eq__',\n",
       " '__format__',\n",
       " '__ge__',\n",
       " '__getattribute__',\n",
       " '__getitem__',\n",
       " '__getstate__',\n",
       " '__gt__',\n",
       " '__hash__',\n",
       " '__iadd__',\n",
       " '__imul__',\n",
       " '__init__',\n",
       " '__init_subclass__',\n",
       " '__iter__',\n",
       " '__le__',\n",
       " '__len__',\n",
       " '__lt__',\n",
       " '__mul__',\n",
       " '__ne__',\n",
       " '__new__',\n",
       " '__reduce__',\n",
       " '__reduce_ex__',\n",
       " '__repr__',\n",
       " '__reversed__',\n",
       " '__rmul__',\n",
       " '__setattr__',\n",
       " '__setitem__',\n",
       " '__sizeof__',\n",
       " '__str__',\n",
       " '__subclasshook__',\n",
       " 'append',\n",
       " 'clear',\n",
       " 'copy',\n",
       " 'count',\n",
       " 'extend',\n",
       " 'index',\n",
       " 'insert',\n",
       " 'pop',\n",
       " 'remove',\n",
       " 'reverse',\n",
       " 'sort']"
      ]
     },
     "execution_count": 30,
     "metadata": {},
     "output_type": "execute_result"
    }
   ],
   "source": [
    "# check out all methods of a list\n",
    "dir(myList)"
   ]
  },
  {
   "cell_type": "code",
   "execution_count": 36,
   "metadata": {},
   "outputs": [
    {
     "name": "stdout",
     "output_type": "stream",
     "text": [
      "[0, 1, 2, 3]\n",
      "[3, 2, 1, 0]\n"
     ]
    }
   ],
   "source": [
    "# some other list methods\n",
    "myList = [1, 2, 3, 0]\n",
    "\n",
    "myList.sort()\n",
    "print(myList)\n",
    "\n",
    "myList.reverse()\n",
    "print(myList)"
   ]
  },
  {
   "cell_type": "code",
   "execution_count": 39,
   "metadata": {},
   "outputs": [
    {
     "name": "stdout",
     "output_type": "stream",
     "text": [
      "the value of the list is: 3\n",
      "the value of the list is: 2\n",
      "the value of the list is: 1\n",
      "the value of the list is: 0\n",
      "the current character is m\n",
      "the current character is y\n",
      "the current character is s\n",
      "the current character is t\n",
      "the current character is r\n",
      "the current character is i\n",
      "the current character is n\n",
      "the current character is g\n",
      "the current character is 1\n",
      "the current character is 2\n",
      "the current character is 3\n",
      "the current character is 4\n"
     ]
    }
   ],
   "source": [
    "# loop through a list\n",
    "for i in myList:\n",
    "    print(\"the value of the list is: \" + str(i))\n",
    "\n",
    "# loop through a string\n",
    "for character in \"mystring1234\":\n",
    "    print(\"the current character is \" + character)"
   ]
  },
  {
   "cell_type": "markdown",
   "metadata": {},
   "source": [
    "## Dictionaries"
   ]
  },
  {
   "cell_type": "code",
   "execution_count": 40,
   "metadata": {},
   "outputs": [
    {
     "name": "stdout",
     "output_type": "stream",
     "text": [
      "A\n"
     ]
    }
   ],
   "source": [
    "# create a dictionary called `grades`\n",
    "\n",
    "grades = {\n",
    "    \"math\": \"A\",\n",
    "    \"history\": \"B\",\n",
    "    \"python\": \"B\",\n",
    "    \"Excel\": \"A\",\n",
    "    \"SQL\": \"A+\",\n",
    "    \"Tableau\": \"B-\"\n",
    "}\n",
    "\n",
    "print(grades[\"math\"])"
   ]
  },
  {
   "cell_type": "code",
   "execution_count": 41,
   "metadata": {},
   "outputs": [
    {
     "data": {
      "text/plain": [
       "['__class__',\n",
       " '__class_getitem__',\n",
       " '__contains__',\n",
       " '__delattr__',\n",
       " '__delitem__',\n",
       " '__dir__',\n",
       " '__doc__',\n",
       " '__eq__',\n",
       " '__format__',\n",
       " '__ge__',\n",
       " '__getattribute__',\n",
       " '__getitem__',\n",
       " '__getstate__',\n",
       " '__gt__',\n",
       " '__hash__',\n",
       " '__init__',\n",
       " '__init_subclass__',\n",
       " '__ior__',\n",
       " '__iter__',\n",
       " '__le__',\n",
       " '__len__',\n",
       " '__lt__',\n",
       " '__ne__',\n",
       " '__new__',\n",
       " '__or__',\n",
       " '__reduce__',\n",
       " '__reduce_ex__',\n",
       " '__repr__',\n",
       " '__reversed__',\n",
       " '__ror__',\n",
       " '__setattr__',\n",
       " '__setitem__',\n",
       " '__sizeof__',\n",
       " '__str__',\n",
       " '__subclasshook__',\n",
       " 'clear',\n",
       " 'copy',\n",
       " 'fromkeys',\n",
       " 'get',\n",
       " 'items',\n",
       " 'keys',\n",
       " 'pop',\n",
       " 'popitem',\n",
       " 'setdefault',\n",
       " 'update',\n",
       " 'values']"
      ]
     },
     "execution_count": 41,
     "metadata": {},
     "output_type": "execute_result"
    }
   ],
   "source": [
    "# List down all methods of a dictionary\n",
    "dir(grades)"
   ]
  },
  {
   "cell_type": "code",
   "execution_count": 42,
   "metadata": {},
   "outputs": [
    {
     "name": "stdout",
     "output_type": "stream",
     "text": [
      "Help on built-in function pop:\n",
      "\n",
      "pop(...) method of builtins.dict instance\n",
      "    D.pop(k[,d]) -> v, remove specified key and return the corresponding value.\n",
      "    \n",
      "    If the key is not found, return the default if given; otherwise,\n",
      "    raise a KeyError.\n",
      "\n"
     ]
    }
   ],
   "source": [
    "# use `help` to see more details of a method\n",
    "help(grades.pop)"
   ]
  },
  {
   "cell_type": "code",
   "execution_count": 44,
   "metadata": {},
   "outputs": [
    {
     "data": {
      "text/plain": [
       "'A'"
      ]
     },
     "execution_count": 44,
     "metadata": {},
     "output_type": "execute_result"
    }
   ],
   "source": [
    "grades.pop(\"Excel\")"
   ]
  },
  {
   "cell_type": "code",
   "execution_count": 45,
   "metadata": {},
   "outputs": [
    {
     "name": "stdout",
     "output_type": "stream",
     "text": [
      "{'math': 'A', 'history': 'B', 'python': 'B', 'SQL': 'A+', 'Tableau': 'B-'}\n"
     ]
    }
   ],
   "source": [
    "print(grades)"
   ]
  },
  {
   "cell_type": "code",
   "execution_count": 46,
   "metadata": {},
   "outputs": [
    {
     "name": "stdout",
     "output_type": "stream",
     "text": [
      "{'math': 'A', 'history': 'B', 'python': 'B', 'SQL': 'A+', 'Tableau': 'B-', 'Excel': 'A'}\n"
     ]
    }
   ],
   "source": [
    "# add the key value of \"Excel\": \"A\" back to the grades dictionary\n",
    "grades[\"Excel\"] = \"A\"\n",
    "print(grades)"
   ]
  },
  {
   "cell_type": "code",
   "execution_count": 47,
   "metadata": {},
   "outputs": [
    {
     "name": "stdout",
     "output_type": "stream",
     "text": [
      "{'math': 'A', 'history': 'B', 'python': 'B', 'SQL': 'A+', 'Tableau': 'B-', 'Excel': 'A+'}\n"
     ]
    }
   ],
   "source": [
    "grades[\"Excel\"] = \"A+\"\n",
    "print(grades)"
   ]
  },
  {
   "cell_type": "code",
   "execution_count": 49,
   "metadata": {},
   "outputs": [
    {
     "name": "stdout",
     "output_type": "stream",
     "text": [
      "True\n",
      "False\n"
     ]
    }
   ],
   "source": [
    "# check if a key exists in a dictionary\n",
    "print(\"Excel\" in grades)\n",
    "print(\"excel\" in grades)\n"
   ]
  },
  {
   "cell_type": "code",
   "execution_count": 50,
   "metadata": {},
   "outputs": [
    {
     "name": "stdout",
     "output_type": "stream",
     "text": [
      "True\n",
      "True\n"
     ]
    }
   ],
   "source": [
    "# check if a value exists in a dictionary\n",
    "print(\"A\" in grades.values())\n",
    "print(\"A+\" in grades.values())"
   ]
  },
  {
   "cell_type": "code",
   "execution_count": 51,
   "metadata": {},
   "outputs": [
    {
     "name": "stdout",
     "output_type": "stream",
     "text": [
      "['A', 'B', 'B', 'A+', 'B-', 'A+']\n"
     ]
    }
   ],
   "source": [
    "# use all values from `grades` dictionary to create a list\n",
    "gradeList = list(grades.values())\n",
    "print(gradeList)\n",
    "\n",
    "# use all keys from `grades` dictionary to create a list\n",
    "gradeKeys = list(grades.keys())\n",
    "print(gradeKeys)"
   ]
  },
  {
   "cell_type": "markdown",
   "metadata": {},
   "source": [
    "## Import modules from different hierarchy\n",
    "\n",
    "When you run a Python script or a Jupyter notebook, Python needs to know where to look for any modules or files you want to import.\n",
    "\n",
    "Example Setup:\n",
    "```plaintext\n",
    "/\n",
    "├── config.py       # Root directory\n",
    "└── data_science/\n",
    "    └── pandas/\n",
    "        └── pandas.ipynb\n",
    "```\n",
    "\n",
    "- `pandas.ipynb` is two levels deep (data_science/pandas).\n",
    "- `config.py` is in the root directory (/).\n",
    "\n",
    "To import the `POSTGRES_URL_MV` variable in the `config.py` into `pandas.ipynb`, we use the following codes:\n",
    "\n",
    "```python\n",
    "import sys\n",
    "import os\n",
    "\n",
    "# Add the root directory (two levels up) to the Python path\n",
    "sys.path.append(os.path.abspath('../../'))\n",
    "\n",
    "# Now import the variable from config.py\n",
    "from config import POSTGRES_URL_MV\n",
    "\n",
    "# Use the imported variable\n",
    "print(POSTGRES_URL_MV)\n",
    "```\n"
   ]
  },
  {
   "cell_type": "markdown",
   "metadata": {},
   "source": [
    "### Understanding `Python Path (sys.path)`\n",
    "- Python has a list called sys.path that contains directories where it looks for modules and packages when you use an import statement.\n",
    "- By default, this list includes the directory where the script is running and the standard library directories."
   ]
  },
  {
   "cell_type": "markdown",
   "metadata": {},
   "source": [
    "### Importing a Module:\n",
    "- When you write from config import POSTGRES_URL_MV, Python checks each directory in sys.path to find a file named config.py.\n",
    "- If Python doesn’t find config.py in any of the directories listed in sys.path, it will raise an ImportError saying it can’t find the module.\n",
    "\n",
    "In your case, the config.py file is located two directories above your `pandas.ipynb` notebook. By default, Python does not know about directories outside the current directory unless you tell it to look there."
   ]
  },
  {
   "cell_type": "markdown",
   "metadata": {},
   "source": [
    "### How it works:\n",
    "1. `os.path.abspath('../../')`:\n",
    "This gets the absolute path to the root directory by going up two levels (../../) from the current directory of the notebook (data_science/pandas). Similar to `cd ../..` in a bash terminal.\n",
    "\n",
    "2. `sys.path.append(...)`:\n",
    "  - This adds the root directory path to the list of directories Python will search when importing modules.\n",
    "  - Now, when you run from config import POSTGRES_URL_MV, Python checks sys.path and finds config.py in the root directory because we added it to the search path."
   ]
  }
 ],
 "metadata": {
  "kernelspec": {
   "display_name": "Python 3",
   "language": "python",
   "name": "python3"
  },
  "language_info": {
   "codemirror_mode": {
    "name": "ipython",
    "version": 3
   },
   "file_extension": ".py",
   "mimetype": "text/x-python",
   "name": "python",
   "nbconvert_exporter": "python",
   "pygments_lexer": "ipython3",
   "version": "3.11.9"
  }
 },
 "nbformat": 4,
 "nbformat_minor": 2
}
